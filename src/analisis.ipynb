{
 "cells": [
  {
   "cell_type": "markdown",
   "metadata": {},
   "source": [
    "# Carga e Inspección de Datos"
   ]
  },
  {
   "cell_type": "code",
   "execution_count": null,
   "metadata": {},
   "outputs": [],
   "source": [
    "# Importar librerías necesarias\n",
    "import pandas as pd\n",
    "import numpy as np\n",
    "import matplotlib.pyplot as plt\n",
    "import seaborn as sns\n",
    "from sklearn.model_selection import train_test_split\n",
    "from sklearn.naive_bayes import GaussianNB\n",
    "from sklearn.metrics import mean_squared_error, r2_score\n",
    "from sklearn.preprocessing import StandardScaler\n",
    "\n",
    "# Cargar el dataset\n",
    "df = pd.read_csv(\"../data/train_preprocessed.csv\")\n",
    "\n",
    "# Mostrar información general del dataset\n",
    "print(\"Información del dataset:\")\n",
    "df.info()\n",
    "\n",
    "# Mostrar los primeros datos\n",
    "print(\"\\nPrimeras filas del dataset:\")\n",
    "display(df.head())\n",
    "\n",
    "# Revisar valores nulos\n",
    "missing_values = df.isnull().sum()\n",
    "print(\"\\nValores nulos por columna:\")\n",
    "print(missing_values[missing_values > 0])\n",
    "\n",
    "# Visualización de la distribución de la variable objetivo 'SalePrice'\n",
    "plt.figure(figsize=(10,5))\n",
    "sns.histplot(df['SalePrice'], bins=30, kde=True, color='blue')\n",
    "plt.title('Distribución de SalePrice')\n",
    "plt.xlabel('SalePrice')\n",
    "plt.ylabel('Frecuencia')\n",
    "plt.show()\n",
    "\n",
    "# Matriz de correlación de las principales variables numéricas\n",
    "plt.figure(figsize=(12,8))\n",
    "\n",
    "# Filtrar solo las columnas numéricas para evitar errores con valores categóricos\n",
    "num_features = df.select_dtypes(include=['int64', 'float64'])\n",
    "\n",
    "sns.heatmap(num_features.corr(), annot=False, cmap='coolwarm', linewidths=0.5)\n",
    "plt.title('Matriz de Correlación')\n",
    "plt.show()"
   ]
  }
 ],
 "metadata": {
  "kernelspec": {
   "display_name": "Python 3",
   "language": "python",
   "name": "python3"
  },
  "language_info": {
   "codemirror_mode": {
    "name": "ipython",
    "version": 3
   },
   "file_extension": ".py",
   "mimetype": "text/x-python",
   "name": "python",
   "nbconvert_exporter": "python",
   "pygments_lexer": "ipython3",
   "version": "3.12.2"
  }
 },
 "nbformat": 4,
 "nbformat_minor": 2
}
